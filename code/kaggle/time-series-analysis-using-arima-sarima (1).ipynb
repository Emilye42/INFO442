{
 "cells": [
  {
   "metadata": {
    "_uuid": "76abfea40230e0adb39e7f2caa7201e2fd369200"
   },
   "cell_type": "markdown",
   "source": [
    "# Rossmann Store Sales Forecast\n",
    "\n",
    "Rossmann operates over 3,000 drug stores in 7 European countries. Currently, Rossmann store managers are tasked with predicting their daily sales for up to six weeks in advance. Store sales are influenced by many factors, including promotions, competition, school and state holidays, seasonality, and locality. With thousands of individual managers predicting sales based on their unique circumstances, the accuracy of results can be quite varied.\n",
    "This notebook mainly focuses on the Time Series Analysis (seasonal decomposition, trends, autocorrelation).\n",
    "We then disscuss advantages and drawbacks of modeling with Seasonal ARIMA and Prophet.\n"
   ]
  },
  {
   "metadata": {
    "_uuid": "db5ca0d12060f50444d7a386bb9eead3d0d5f006"
   },
   "cell_type": "markdown",
   "source": [
    "#### Approach:\n",
    "    \n",
    "I first do the habitual data treatment and cleansing.\n",
    "In order to understand better the patterns of the data, I will make use of libraries like matplotlib and seaborn to deep dive cases in the dataset and give better visibility on what is happening with the different types of Rossman drug stores.\n",
    "This Exploratory analysis will help me move forward with the correlation analysis and feature engineering part of the project."
   ]
  },
  {
   "metadata": {
    "_uuid": "f0cb5e0a18e9d1739a2b2b07c5d55a81492d8801"
   },
   "cell_type": "markdown",
   "source": [
    "#### Dataset:\n",
    "\n",
    "<li>https://www.kaggle.com/c/rossmann-store-sales</li>"
   ]
  },
  {
   "metadata": {
    "_uuid": "02a346676c6f87de9cab8eb652ba400a6bfb1e58"
   },
   "cell_type": "markdown",
   "source": [
    "# Importing Required Libraries"
   ]
  },
  {
   "metadata": {
    "trusted": true,
    "_uuid": "6d99157e511dfe6c804ee08299f9f5bec1598a79"
   },
   "cell_type": "code",
   "source": [
    "import warnings\n",
    "warnings.filterwarnings(\"ignore\")\n",
    "#Data Manipulation and Treatment\n",
    "import numpy as np\n",
    "import pandas as pd\n",
    "from datetime import datetime\n",
    "#Plotting and Visualizations\n",
    "import matplotlib.pyplot as plt\n",
    "%matplotlib inline \n",
    "import seaborn as sns\n",
    "from scipy import stats\n",
    "import itertools\n",
    "#Scikit-Learn for Modeling\n",
    "from sklearn import model_selection\n",
    "from sklearn.ensemble import RandomForestRegressor\n",
    "from sklearn import metrics\n",
    "# statistics\n",
    "#from statsmodels.tsa.arima_model import ARIMA\n",
    "import statsmodels.api as sm\n",
    "from statsmodels.distributions.empirical_distribution import ECDF\n",
    "# time series analysis\n",
    "from statsmodels.tsa.seasonal import seasonal_decompose\n",
    "from statsmodels.graphics.tsaplots import plot_acf, plot_pacf\n"
   ],
   "execution_count": null,
   "outputs": []
  },
  {
   "metadata": {
    "_uuid": "1c879e62b90a2d274e3ca600eb260761afbe431c"
   },
   "cell_type": "markdown",
   "source": [
    "# Loading Dataset"
   ]
  },
  {
   "metadata": {
    "trusted": true,
    "_uuid": "344834c9f2a57b82ecce2be2723b9a8ccf08cc6b"
   },
   "cell_type": "code",
   "source": [
    "# additional store data\n",
    "\n",
    "store = pd.read_csv(\"../input/store.csv\")\n",
    "store.describe()\n",
    "store.head()"
   ],
   "execution_count": null,
   "outputs": []
  },
  {
   "metadata": {
    "trusted": true,
    "_uuid": "de3df5fdc80930c88d34e5f36a28ae62c5d974db"
   },
   "cell_type": "code",
   "source": [
    "# importing train data\n",
    "\n",
    "train = pd.read_csv(\"../input/train.csv\", parse_dates = True, low_memory = False, index_col = 'Date')\n",
    "train.describe()\n",
    "train.head()"
   ],
   "execution_count": null,
   "outputs": []
  },
  {
   "metadata": {
    "_uuid": "f280901b4e2199e00a73571d8914fda627c05797"
   },
   "cell_type": "markdown",
   "source": [
    "#### A quick glimpse at the data:\n",
    "\n",
    "- Sales: the turnover for any given day (target variable).\n",
    "- Customers: the number of customers on a given day.\n",
    "- Open: an indicator for whether the store was open: 0 = closed, 1 = open.\n",
    "- Promo: indicates whether a store is running a promo on that day.\n",
    "- StateHoliday: indicates a state holiday. Normally all stores, with few exceptions, are closed on state holidays.\n",
    "- SchoolHoliday: indicates if the (Store, Date) was affected by the closure of public schools.\n",
    "    \n",
    "We are dealing with time series data so it will probably serve us to extract dates for further analysis. We also have two likely correlated vaiables in the dataset, which can be combined into a new feature."
   ]
  },
  {
   "metadata": {
    "trusted": false,
    "_uuid": "f26003d2d20144cf503679b222c8f4352ee1e3d6"
   },
   "cell_type": "code",
   "source": [
    "# data extraction\n",
    "\n",
    "train['Year'] = train.index.year\n",
    "train['Month'] = train.index.month\n",
    "train['Day'] = train.index.day\n",
    "train['WeekOfYear'] = train.index.weekofyear\n"
   ],
   "execution_count": null,
   "outputs": []
  },
  {
   "metadata": {
    "trusted": false,
    "_uuid": "af7e5cce1a9f72e736a517f83aaf06e841393732"
   },
   "cell_type": "code",
   "source": [
    "train.info()"
   ],
   "execution_count": null,
   "outputs": []
  },
  {
   "metadata": {
    "trusted": false,
    "_uuid": "d80ceed3136383e1e267597891a8b76fa167a4cb"
   },
   "cell_type": "code",
   "source": [
    "train.head()"
   ],
   "execution_count": null,
   "outputs": []
  },
  {
   "metadata": {
    "trusted": false,
    "_uuid": "21fd8bde757771ea655e878417dbd59d3c9d62b7"
   },
   "cell_type": "code",
   "source": [
    "# adding new variable\n",
    "\n",
    "train['SalePerCustomer'] = train['Sales']/train['Customers']\n",
    "train['SalePerCustomer'].describe()"
   ],
   "execution_count": null,
   "outputs": []
  },
  {
   "metadata": {
    "_uuid": "c41b8a59ca9279b2cc1820789e85438ee88a5a5f"
   },
   "cell_type": "markdown",
   "source": [
    "On average customers spend about 9.50$ per day. Though there are days with Sales equal to zero."
   ]
  },
  {
   "metadata": {
    "_uuid": "390262bcad114f595757d654ed8ff5fbf3d8ae87"
   },
   "cell_type": "markdown",
   "source": [
    "##### In this section we go through the train and store data, handle missing values and create new features for further analysis."
   ]
  },
  {
   "metadata": {
    "trusted": false,
    "_uuid": "862e43074ee1998f0907384beb663788039a3429"
   },
   "cell_type": "code",
   "source": [
    "train.isnull().sum()"
   ],
   "execution_count": null,
   "outputs": []
  },
  {
   "metadata": {
    "trusted": false,
    "_uuid": "0cfefd6ac6466a064b56b622a81318415e40d9ea"
   },
   "cell_type": "code",
   "source": [
    "train.fillna(0, inplace = True)"
   ],
   "execution_count": null,
   "outputs": []
  },
  {
   "metadata": {
    "_uuid": "a616cf3edde7715dcbf1fee49b71f15db4a337a1"
   },
   "cell_type": "markdown",
   "source": [
    "#### ECDF: empirical cumulative distribution function\n",
    "To get the first impression about continious variables in the data we can plot ECDF."
   ]
  },
  {
   "metadata": {
    "trusted": false,
    "_uuid": "810c951a404c6bfdb124a5e425109f8d07530b3c"
   },
   "cell_type": "code",
   "source": [
    "sns.set(style = \"ticks\")# to format into seaborn \n",
    "c = '#386B7F' # basic color for plots\n",
    "plt.figure(figsize = (12, 6))\n",
    "\n",
    "plt.subplot(311)\n",
    "cdf = ECDF(train['Sales'])\n",
    "plt.plot(cdf.x, cdf.y, label = \"statmodels\", color = c);\n",
    "plt.xlabel('Sales'); plt.ylabel('ECDF');\n",
    "\n",
    "# plot second ECDF  \n",
    "plt.subplot(312)\n",
    "cdf = ECDF(train['Customers'])\n",
    "plt.plot(cdf.x, cdf.y, label = \"statmodels\", color = c);\n",
    "plt.xlabel('Customers');\n",
    "\n",
    "# plot second ECDF  \n",
    "plt.subplot(313)\n",
    "cdf = ECDF(train['SalePerCustomer'])\n",
    "plt.plot(cdf.x, cdf.y, label = \"statmodels\", color = c);\n",
    "plt.xlabel('Sale per Customer');"
   ],
   "execution_count": null,
   "outputs": []
  },
  {
   "metadata": {
    "_uuid": "80230a0371a7adfd9fb05b2daf14a227a44f2d43"
   },
   "cell_type": "markdown",
   "source": [
    "About 20% of data has zero amount of sales/customers that we need to deal with and almost 80% of time daily amount of sales was less than 1000. So what about zero sales, is it only due to the fact that the store is closed?"
   ]
  },
  {
   "metadata": {
    "_uuid": "87a7120219254e0d5f1ca9f39eea7a684551ef64"
   },
   "cell_type": "markdown",
   "source": [
    "##### Missing values\n",
    "##### Closed stores and zero sales stores"
   ]
  },
  {
   "metadata": {
    "trusted": false,
    "_uuid": "a1958e2bef04743aeeba03d84667b4dfc620152d"
   },
   "cell_type": "code",
   "source": [
    "# closed stores\n",
    "train[(train.Open == 0) & (train.Sales == 0)]"
   ],
   "execution_count": null,
   "outputs": []
  },
  {
   "metadata": {
    "_uuid": "6bb599ee3d437b972c9bc8e845a15177a36b0d79"
   },
   "cell_type": "markdown",
   "source": [
    "There're 172817 closed stores in the data. It is about 10% of the total amount of observations. To avoid any biased forecasts we will drop these values.\n",
    "\n",
    "What about opened stores with zero sales?"
   ]
  },
  {
   "metadata": {
    "trusted": false,
    "_uuid": "6fedf918f06a9e4bdae3e83964e90c259935c9fd"
   },
   "cell_type": "code",
   "source": [
    "# opened stores with zero sales\n",
    "zero_sales = train[(train.Open != 0) & (train.Sales == 0)]\n",
    "print(\"In total: \", zero_sales.shape)\n",
    "zero_sales.head(5)"
   ],
   "execution_count": null,
   "outputs": []
  },
  {
   "metadata": {
    "_uuid": "0ad76c8880b803dd7754b29339bc4c5a92ebf626"
   },
   "cell_type": "markdown",
   "source": [
    "Interestingly enough, there are opened store with no sales on working days. There're only 54 days in the data, so we can assume that there were external factors involved, for example manifestations."
   ]
  },
  {
   "metadata": {
    "trusted": false,
    "_uuid": "5f2eaa4a181fb45b5c1ca00a892b4e1c7d8283b6"
   },
   "cell_type": "code",
   "source": [
    "#print(\"Closed stores and days which didn't have any sales won't be counted into the forecasts.\")\n",
    "\n",
    "train = train[(train[\"Open\"] != 0) & (train['Sales'] != 0)]\n",
    "\n",
    "print(\"In total: \", train.shape)"
   ],
   "execution_count": null,
   "outputs": []
  },
  {
   "metadata": {
    "trusted": false,
    "_uuid": "5af62e2999ac6acaade604bda2b88e91e5a24b64"
   },
   "cell_type": "code",
   "source": [
    "train=train.drop(columns=train[(train.Open == 1) & (train.Sales == 0)].index)"
   ],
   "execution_count": null,
   "outputs": []
  },
  {
   "metadata": {
    "trusted": false,
    "_uuid": "270923ee385a6d5e4023d74b7f566eff62f83353"
   },
   "cell_type": "code",
   "source": [
    "{\"Mean\":np.mean(train.Sales),\"Median\":np.median(train.Sales)}"
   ],
   "execution_count": null,
   "outputs": []
  },
  {
   "metadata": {
    "trusted": false,
    "_uuid": "c9d3589423b3c92ae7ca74a1840289be4e9c3bb8"
   },
   "cell_type": "code",
   "source": [
    "train.Customers.describe()"
   ],
   "execution_count": null,
   "outputs": []
  },
  {
   "metadata": {
    "trusted": false,
    "_uuid": "142e55196916b82f24c2d9857ca31fb38bad4cf7"
   },
   "cell_type": "code",
   "source": [
    "{\"Mean\":np.mean(train.Customers),\"Median\":np.median(train.Customers)}"
   ],
   "execution_count": null,
   "outputs": []
  },
  {
   "metadata": {
    "_uuid": "027f485758c473d83a6763137167975674a7dcab"
   },
   "cell_type": "markdown",
   "source": [
    "### store.csv file EDA"
   ]
  },
  {
   "metadata": {
    "scrolled": false,
    "trusted": false,
    "_uuid": "57b47c008fc05025bd963eeb947e9bb2e90b40ec"
   },
   "cell_type": "code",
   "source": [
    "store.head()"
   ],
   "execution_count": null,
   "outputs": []
  },
  {
   "metadata": {
    "_uuid": "eafbbaacbe53ac6a1a7257552a047453fe131d2e"
   },
   "cell_type": "markdown",
   "source": [
    "1. Store: a unique Id for each store\n",
    "2. StoreType: differentiates between 4 different store models: a, b, c, d\n",
    "3. Assortment: describes an assortment level: a = basic, b = extra, c = extended\n",
    "4. CompetitionDistance: distance in meters to the nearest competitor store\n",
    "5. CompetitionOpenSince[Month/Year]: gives the approximate year and month of the time the nearest competitor was opened\n",
    "6. Promo2: Promo2 is a continuing a promotion for some stores: 0 = store is not participating, 1 = store is participating\n",
    "7. Promo2Since[Year/Week]: describes the year and calendar week when the store started participating in Promo2\n",
    "8. PromoInterval: describes the consecutive intervals Promo2 is started, naming the months the promotion is started.\n",
    "    E.g. \"Feb,May,Aug,Nov\" means each round starts in February, May, August, November of any given year for that store"
   ]
  },
  {
   "metadata": {
    "trusted": false,
    "_uuid": "e037f928c2b4faae7ca27a9027ba5611a9b3f534"
   },
   "cell_type": "code",
   "source": [
    "# missing values?\n",
    "store.isnull().sum()"
   ],
   "execution_count": null,
   "outputs": []
  },
  {
   "metadata": {
    "trusted": false,
    "_uuid": "b6644cbf9cd59fe6020465105ad8c10de73a1d81"
   },
   "cell_type": "code",
   "source": [
    "# missing values in CompetitionDistance\n",
    "store[pd.isnull(store.CompetitionDistance)]\n"
   ],
   "execution_count": null,
   "outputs": []
  },
  {
   "metadata": {
    "_uuid": "742915f3b55fb5f02fe4af7dcad5f225e9e03436"
   },
   "cell_type": "markdown",
   "source": [
    "Apperently this information is simply missing from the data. No particular pattern observed. In this case, it makes a complete sense to replace NaN with the median values (which is twice less that the average)."
   ]
  },
  {
   "metadata": {
    "trusted": false,
    "_uuid": "add2abc392a9b06f004c21d687cc96a14c370e50"
   },
   "cell_type": "code",
   "source": [
    "store['CompetitionDistance'].fillna(store['CompetitionDistance'].median(), inplace = True)"
   ],
   "execution_count": null,
   "outputs": []
  },
  {
   "metadata": {
    "_uuid": "09cd062b6f9d79ff3373fe1a467538d176f9b794"
   },
   "cell_type": "markdown",
   "source": [
    "Continuing further with missing data. What about Promo2SinceWeek?"
   ]
  },
  {
   "metadata": {
    "trusted": false,
    "_uuid": "b4e4d39634d00a8e8fc5a127c53f4b0366364732"
   },
   "cell_type": "code",
   "source": [
    "# no promo = no information about the promo?\n",
    "_ = store[pd.isnull(store.Promo2SinceWeek)]\n",
    "_[_.Promo2 != 0].shape"
   ],
   "execution_count": null,
   "outputs": []
  },
  {
   "metadata": {
    "_uuid": "540e6460ed22c4dc5365082e2d51548aa0284497"
   },
   "cell_type": "markdown",
   "source": [
    "No, if there's no Promo2 then there's no information about it. We can replace these values by zeros. The same goes for tha variables deducted from the competition, CompetitionOpenSinceMonth and CompetitionOpenSinceYear."
   ]
  },
  {
   "metadata": {
    "trusted": false,
    "_uuid": "ab660291bfb9e64103391a34df2f5be3b488817a"
   },
   "cell_type": "code",
   "source": [
    "# replace NA's by 0\n",
    "store.fillna(0, inplace = True)"
   ],
   "execution_count": null,
   "outputs": []
  },
  {
   "metadata": {
    "trusted": false,
    "_uuid": "40aaf34bdf14c3341b2af692b50e0ff4f1d0f3e3"
   },
   "cell_type": "code",
   "source": [
    "print(\"Joining train set with an additional store information.\")\n",
    "\n",
    "# by specifying inner join we make sure that only those observations \n",
    "# that are present in both train and store sets are merged together\n",
    "train_store = pd.merge(train, store, how = 'inner', on = 'Store')\n",
    "\n",
    "print(\"In total: \", train_store.shape)\n",
    "train_store.head(1000)\n"
   ],
   "execution_count": null,
   "outputs": []
  },
  {
   "metadata": {
    "trusted": false,
    "_uuid": "9f153ce0f69db47cec9cea6d753055af3ef81d41"
   },
   "cell_type": "code",
   "source": [
    "train_store.head(100)"
   ],
   "execution_count": null,
   "outputs": []
  },
  {
   "metadata": {
    "_uuid": "793dfd771dc675fac3a8294ec757e0898fa3fc9f"
   },
   "cell_type": "markdown",
   "source": [
    "#### Store types\n",
    "In this section we will closely look at different levels of StoreType and how the main metric Sales is distributed among them."
   ]
  },
  {
   "metadata": {
    "scrolled": true,
    "trusted": false,
    "_uuid": "dc6685dd6583f85d1215f1022e0b11f63682251c"
   },
   "cell_type": "code",
   "source": [
    "train_store.groupby('StoreType')['Sales'].describe()"
   ],
   "execution_count": null,
   "outputs": []
  },
  {
   "metadata": {
    "_uuid": "ebb744e43d724f5c12e10de704a736c6b2e044d9"
   },
   "cell_type": "markdown",
   "source": [
    "StoreType B has the highest average of Sales among all others, however we have much less data for it. So let's print an overall sum of Sales and Customers to see which StoreType is the most selling and crowded one:"
   ]
  },
  {
   "metadata": {
    "trusted": false,
    "_uuid": "837b1920052c527be4e5a446e250cc9d401e9881"
   },
   "cell_type": "code",
   "source": [
    "train_store.groupby('StoreType')['Customers', 'Sales'].sum()"
   ],
   "execution_count": null,
   "outputs": []
  },
  {
   "metadata": {
    "_uuid": "bc0b5c1d133291a9ff3e1c0356b3b61ce14e4ae4"
   },
   "cell_type": "markdown",
   "source": [
    "Clearly stores of type A. StoreType D goes on the second place in both Sales and Customers. What about date periods? Seaborn's facet grid is the best tool for this task:"
   ]
  },
  {
   "metadata": {
    "trusted": false,
    "_uuid": "b2bc5a8012238792a490383082255b037fb6abba"
   },
   "cell_type": "code",
   "source": [
    "# sales trends\n",
    "sns.factorplot(data = train_store, x = 'Month', y = \"Sales\", \n",
    "               col = 'StoreType', # per store type in cols\n",
    "               palette = 'plasma',\n",
    "               hue = 'StoreType',\n",
    "               row = 'Promo', # per promo in the store in rows\n",
    "               color = c)"
   ],
   "execution_count": null,
   "outputs": []
  },
  {
   "metadata": {
    "trusted": false,
    "_uuid": "c5c8e7314503bc5d9d96d55edfacacdfd5e786d9"
   },
   "cell_type": "code",
   "source": [
    "# sales trends\n",
    "sns.factorplot(data = train_store, x = 'Month', y = \"Customers\", \n",
    "               col = 'StoreType', # per store type in cols\n",
    "               palette = 'plasma',\n",
    "               hue = 'StoreType',\n",
    "               row = 'Promo', \n",
    "               color = c)"
   ],
   "execution_count": null,
   "outputs": []
  },
  {
   "metadata": {
    "_uuid": "e0ef8cfbf5cef8ac2f44d1c9aa07e190f21e388a"
   },
   "cell_type": "markdown",
   "source": [
    "All store types follow the same trend but at different scales depending on the presence of the (first) promotion Promo and StoreType itself (case for B).\n",
    "\n",
    "###### Already at this point, we can see that Sales escalate towards Christmas holidays. But we'll talk about seasonalities and trends later in the Time Series Analysis section."
   ]
  },
  {
   "metadata": {
    "trusted": false,
    "_uuid": "0ac2fdf7e9059cce67f2e6723c594558df5b08f7"
   },
   "cell_type": "code",
   "source": [
    "# sale per customer trends\n",
    "sns.factorplot(data = train_store, x = 'Month', y = \"SalePerCustomer\", \n",
    "               col = 'StoreType', # per store type in cols\n",
    "               palette = 'plasma',\n",
    "               hue = 'StoreType',\n",
    "               row = 'Promo', # per promo in the store in rows\n",
    "               color = c)"
   ],
   "execution_count": null,
   "outputs": []
  },
  {
   "metadata": {
    "_uuid": "f65702f249801523d601ae86d0ed075bfaca382f"
   },
   "cell_type": "markdown",
   "source": [
    "Eventhough the plots above showed StoreType B as the most selling and performant one, in reality it is not true. The highest SalePerCustomer amount is observed at the StoreType D. \n",
    "\n",
    "Low SalePerCustomer amount for StoreType B describes its Buyer Cart: there are a lot of people who shop essentially for \"small\" things (or in a little quantity). Plus we saw that overall this StoreType generated the least amount of sales and customers over the period."
   ]
  },
  {
   "metadata": {
    "trusted": false,
    "_uuid": "85cdb5dd4f4eb6eca65de1444c50e4279b18b736"
   },
   "cell_type": "code",
   "source": [
    "# customers\n",
    "sns.factorplot(data = train_store, x = 'Month', y = \"Sales\", \n",
    "               col = 'DayOfWeek', # per store type in cols\n",
    "               palette = 'plasma', \n",
    "               hue = 'StoreType',\n",
    "               row = 'StoreType', # per store type in rows\n",
    "               color = c)"
   ],
   "execution_count": null,
   "outputs": []
  },
  {
   "metadata": {
    "_uuid": "f01807baa7f5406252d85750b0c1ae66c8391c8b"
   },
   "cell_type": "markdown",
   "source": [
    "We see that stores of StoreType C are all closed on Sundays, whereas others are most of the time opened. Interestingly enough, stores of StoreType D are closed on Sundays only from October to December.\n",
    "\n",
    "Bt the way what are the stores which are opened on Sundays?"
   ]
  },
  {
   "metadata": {
    "trusted": false,
    "_uuid": "c190168a77b79db8cad912e61138562eb1f1345f"
   },
   "cell_type": "code",
   "source": [
    "# stores which are opened on Sundays\n",
    "train_store[(train_store.Open == 1) & (train_store.DayOfWeek == 7)]['Store'].unique()"
   ],
   "execution_count": null,
   "outputs": []
  },
  {
   "metadata": {
    "_uuid": "ce7bca596c37d2f85212577928b11abebae2df19"
   },
   "cell_type": "markdown",
   "source": [
    "To complete our preliminary data analysis, we can add variables describing the period of time during which competition and promotion were opened:"
   ]
  },
  {
   "metadata": {
    "trusted": false,
    "_uuid": "7a4c7746f0d2d9a50cdfbefcf899872282aaed11"
   },
   "cell_type": "code",
   "source": [
    "# competition open time (in months)\n",
    "train_store['CompetitionOpen'] = 12 * (train_store.Year - train_store.CompetitionOpenSinceYear) + \\\n",
    "        (train_store.Month - train_store.CompetitionOpenSinceMonth)\n",
    "    \n",
    "# Promo open time\n",
    "train_store['PromoOpen'] = 12 * (train_store.Year - train_store.Promo2SinceYear) + \\\n",
    "        (train_store.WeekOfYear - train_store.Promo2SinceWeek) / 4.0\n",
    "\n",
    "# replace NA's by 0\n",
    "train_store.fillna(0, inplace = True)\n",
    "\n",
    "# average PromoOpen time and CompetitionOpen time per store type\n",
    "train_store.loc[:, ['StoreType', 'Sales', 'Customers', 'PromoOpen', 'CompetitionOpen']].groupby('StoreType').mean()"
   ],
   "execution_count": null,
   "outputs": []
  },
  {
   "metadata": {
    "_uuid": "8b93788689c78bfaf3cec5b87ead5ad05355aed4"
   },
   "cell_type": "markdown",
   "source": [
    "The most selling and crowded StoreType A doesn't appear to be the one the most exposed to competitors. Instead it's a StoreType B, which also has the longest running period of promotion."
   ]
  },
  {
   "metadata": {
    "trusted": false,
    "_uuid": "ddedbd0992fb3f49db88bf02d1b890a2de3464ba"
   },
   "cell_type": "code",
   "source": [
    "# HeatMap\n",
    "# Compute the correlation matrix \n",
    "# exclude 'Open' variable\n",
    "corr_all = train_store.drop('Open', axis = 1).corr()\n",
    "\n",
    "# Generate a mask for the upper triangle\n",
    "mask = np.zeros_like(corr_all, dtype = np.bool)\n",
    "mask[np.triu_indices_from(mask)] = True\n",
    "\n",
    "# Set up the matplotlib figure\n",
    "f, ax = plt.subplots(figsize = (11, 9))\n",
    "\n",
    "# Draw the heatmap with the mask and correct aspect ratio\n",
    "sns.heatmap(corr_all, mask = mask, annot = True, square = True, linewidths = 0.5, ax = ax, cmap = \"BrBG\", fmt='.2f')      \n",
    "plt.show()"
   ],
   "execution_count": null,
   "outputs": []
  },
  {
   "metadata": {
    "_uuid": "a20f4471d74ec104d8588b8b6245595bdd009c0e"
   },
   "cell_type": "markdown",
   "source": [
    "As mentioned before, we have a strong positive correlation between the amount of Sales and Customers of a store. We can also observe a positive correlation between the fact that the store had a running promotion (Promo equal to 1) and amount of Customers.\n",
    "\n",
    "However, as soon as the store continues a consecutive promotion (Promo2 equal to 1) the number of Customers and Sales seems to stay the same or even decrease, which is described by the pale negative correlation on the heatmap. The same negative correlation is observed between the presence of the promotion in the store and the day of a week."
   ]
  },
  {
   "metadata": {
    "trusted": false,
    "_uuid": "716e999455a77b7b9d713de346cd3707f79fdafd"
   },
   "cell_type": "code",
   "source": [
    "# sale per customer trends\n",
    "sns.factorplot(data = train_store, x = 'DayOfWeek', y = \"Sales\", \n",
    "               col = 'Promo', \n",
    "               row = 'Promo2',\n",
    "               hue = 'Promo2',\n",
    "               palette = 'RdPu')"
   ],
   "execution_count": null,
   "outputs": []
  },
  {
   "metadata": {
    "_uuid": "57d08e7de529d55d7776e3ddca84d0282cdfa516"
   },
   "cell_type": "markdown",
   "source": [
    "There are several things here:\n",
    "\n",
    "In case of no promotion, both Promo and Promo2 are equal to 0, Sales tend to peak on Sunday (!). Though we should note that StoreType C doesn't work on Sundays. So it is mainly data from StoreType A, B and D.\n",
    "On the contrary, stores that run the promotion tend to make most of the Sales on Monday. This fact could be a good indicator for Rossmann marketing campaigns. The same trend follow the stores which have both promotion at the same time (Promo and Promo2 are equal to 1).\n",
    "Promo2 alone doesn't seem to be correlated to any significant change in the Sales amount. This can be also prooved by the blue pale area on the heatmap above."
   ]
  },
  {
   "metadata": {
    "_uuid": "a3682cb03d4fb9ef8ac724ae6a2aac5edba85852"
   },
   "cell_type": "markdown",
   "source": [
    "### Conclusion of EDA\n",
    "- The most selling and crowded StoreType is A.\n",
    "- The best \"Sale per Customer\" StoreType D indicates to the higher Buyer Cart. We could also assume that the stores of this types are situated in the rural areas, so that customers prefer buying more but less often.\n",
    "- Low SalePerCustomer amount for StoreType B indicates to the possible fact that people shop there essentially for small things. - Which can also indicate to the label of this store type - \"urban\" - as it's more accessible for public, and customers don't mind shopping there from time to time during a week.\n",
    "- Customers tends to buy more on Mondays when there's one promotion running (Promo) and on Sundays when there is no promotion at all (both Promo and Promo1 are equal to 0).\n",
    "- Promo2 alone doesn't seem to be correlated to any significant change in the Sales amount."
   ]
  },
  {
   "metadata": {
    "_uuid": "c884eb324781892140edb4876c536be33bf09de6"
   },
   "cell_type": "markdown",
   "source": [
    "# Time-Series Analysis per Store Type\n",
    "\n",
    "ARIMA is one of the most classic time series forecasting models. During the modeling process, we mainly want to find 3 parameters. Auto-regression(AR) term, namly the lags of previous value; Integral(I) term for non-stationary differencing and Moving Average(MA) for error term.\n",
    "In this section, we will analyse time series data: its trends, sesonalities and autocorrelation. Usually at the end of the analysis, we are able to develop a seasonal ARIMA (Autoregression Integrated Moving Average) model"
   ]
  },
  {
   "metadata": {
    "_uuid": "fcea90a58becab4088bfd8610b505230c53a5d1c"
   },
   "cell_type": "markdown",
   "source": [
    "### Seasonality\n",
    "\n",
    "We take four stores from store types to represent their group:\n",
    "\n",
    "- Store number 2 for StoreType A\n",
    "- Store number 85 for StoreType B,\n",
    "- Store number 1 for StoreType C\n",
    "- Store number 13 for StoreType D.\n",
    "\n",
    "It also makes sense to downsample the data from days to weeks using the resample method to see the present trends more clearly."
   ]
  },
  {
   "metadata": {
    "trusted": false,
    "_uuid": "ee15a325fe768c1738b45c092de6ac8c4c2510bf"
   },
   "cell_type": "code",
   "source": [
    "train_store.head()"
   ],
   "execution_count": null,
   "outputs": []
  },
  {
   "metadata": {
    "trusted": false,
    "_uuid": "17337869fcf192c4a973d8638eca1bf1149d8cbd"
   },
   "cell_type": "code",
   "source": [
    "# preparation: input should be float type\n",
    "train['Sales'] = train['Sales'] * 1.0\n",
    "\n",
    "# store types\n",
    "sales_a = train[train.Store == 2]['Sales']\n",
    "sales_b = train[train.Store == 85]['Sales']\n",
    "sales_c = train[train.Store == 1]['Sales']\n",
    "sales_d = train[train.Store == 13]['Sales']\n",
    "\n",
    "f, (ax1, ax2, ax3, ax4) = plt.subplots(4, figsize = (12, 13))\n",
    "\n",
    "# store types\n",
    "sales_a.resample('W').sum().plot(color = c, ax = ax1)\n",
    "sales_b.resample('W').sum().plot(color = c, ax = ax2)\n",
    "sales_c.resample('W').sum().plot(color = c, ax = ax3)\n",
    "sales_d.resample('W').sum().plot(color = c, ax = ax4)"
   ],
   "execution_count": null,
   "outputs": []
  },
  {
   "metadata": {
    "_uuid": "4d64fe6a9dcfecbb546290a41d2be8398db1c1cc"
   },
   "cell_type": "markdown",
   "source": [
    "Retail sales for StoreType A and C tend to peak for the Christmas season and then decline after the holidays. We might have seen the same trend for StoreType D (at the bottom) but there is no information from July 2014 to January 2015 about these stores as they were closed."
   ]
  },
  {
   "metadata": {
    "_uuid": "46d8acdf01c0f56939bca3e4c167bfc63d6dd6e5"
   },
   "cell_type": "markdown",
   "source": [
    "### Yearly trend\n",
    "The next thing to check the presence of a trend in series.\n",
    "Another tool to visualize the data is the seasonal_decompose function in statsmodel. With this, the trend and seasonality become even more obvious."
   ]
  },
  {
   "metadata": {
    "trusted": false,
    "_uuid": "5f20a33e57bcf92cc3fa5c40d4828514ddd1e08a"
   },
   "cell_type": "code",
   "source": [
    "f, (ax1, ax2, ax3, ax4) = plt.subplots(4, figsize = (12, 13))\n",
    "\n",
    "# monthly\n",
    "decomposition_a = seasonal_decompose(sales_a, model = 'additive', freq = 365)\n",
    "decomposition_a.trend.plot(color = c, ax = ax1)\n",
    "\n",
    "decomposition_b = seasonal_decompose(sales_b, model = 'additive', freq = 365)\n",
    "decomposition_b.trend.plot(color = c, ax = ax2)\n",
    "\n",
    "decomposition_c = seasonal_decompose(sales_c, model = 'additive', freq = 365)\n",
    "decomposition_c.trend.plot(color = c, ax = ax3)\n",
    "\n",
    "decomposition_d = seasonal_decompose(sales_d, model = 'additive', freq = 365)\n",
    "decomposition_d.trend.plot(color = c, ax = ax4)"
   ],
   "execution_count": null,
   "outputs": []
  },
  {
   "metadata": {
    "_uuid": "ab7e152dfe2f5adeaac5e0a5c4e0be3fc0e505cf"
   },
   "cell_type": "markdown",
   "source": [
    "Overall sales seems to increase, however not for the StoreType C (a third from the top). Eventhough the StoreType A is the most selling store type in the dataset, it seems that it cab follow the same decresing trajectory as StoreType C did."
   ]
  },
  {
   "metadata": {
    "_uuid": "505858801c9d35bf72aac99ace1305fe85b8b59b"
   },
   "cell_type": "markdown",
   "source": [
    "## Stationarize the data:\n",
    "\n",
    "When running a linear regression the assumption is that all of the observations are all independent of each other. In a time series, however, we know that observations are time dependent. It turns out that a lot of nice results that hold for independent random variables (law of large numbers and central limit theorem to name a couple) hold for stationary random variables. So by making the data stationary, we can actually apply regression techniques to this time dependent variable.\n",
    "\n",
    "There are two ways you can check the stationarity of a time series. The first is by looking at the data. By visualizing the data it should be easy to identify a changing mean or variation in the data. For a more accurate assessment there is the Dickey-Fuller test.\n",
    "\n",
    "if the ‘Test Statistic’ is greater than the ‘Critical Value’ than the time series is stationary. Below is code that will help you visualize the time series and test for stationarity."
   ]
  },
  {
   "metadata": {
    "trusted": false,
    "_uuid": "b949457be57d4ab6787604b9561a70506ec2545f"
   },
   "cell_type": "code",
   "source": [
    "from statsmodels.tsa.stattools import adfuller\n",
    "def test_stationarity(timeseries, window = 12, cutoff = 0.01):\n",
    "\n",
    "    #Determing rolling statistics\n",
    "    rolmean = timeseries.rolling(window).mean()\n",
    "    rolstd = timeseries.rolling(window).std()\n",
    "\n",
    "    #Plot rolling statistics:\n",
    "    fig = plt.figure(figsize=(12, 8))\n",
    "    orig = plt.plot(timeseries, color='blue',label='Original')\n",
    "    mean = plt.plot(rolmean, color='red', label='Rolling Mean')\n",
    "    std = plt.plot(rolstd, color='black', label = 'Rolling Std')\n",
    "    plt.legend(loc='best')\n",
    "    plt.title('Rolling Mean & Standard Deviation')\n",
    "    plt.show()\n",
    "    \n",
    "    #Perform Dickey-Fuller test:\n",
    "    print('Results of Dickey-Fuller Test:')\n",
    "    dftest = adfuller(timeseries, autolag='AIC', maxlag = 20 )\n",
    "    dfoutput = pd.Series(dftest[0:4], index=['Test Statistic','p-value','#Lags Used','Number of Observations Used'])\n",
    "    for key,value in dftest[4].items():\n",
    "        dfoutput['Critical Value (%s)'%key] = value\n",
    "    pvalue = dftest[1]\n",
    "    if pvalue < cutoff:\n",
    "        print('p-value = %.4f. The series is likely stationary.' % pvalue)\n",
    "    else:\n",
    "        print('p-value = %.4f. The series is likely non-stationary.' % pvalue)\n",
    "    \n",
    "    print(dfoutput)"
   ],
   "execution_count": null,
   "outputs": []
  },
  {
   "metadata": {
    "trusted": false,
    "_uuid": "30423770007650c75b8b01d559693344c953ee43"
   },
   "cell_type": "code",
   "source": [
    "from scipy import stats\n",
    "from scipy.stats import normaltest\n",
    "def residual_plot(model):\n",
    "\n",
    "    resid = model.resid\n",
    "    print(normaltest(resid))\n",
    "    # returns a 2-tuple of the chi-squared statistic, and the associated p-value. the p-value is very small, meaning\n",
    "    # the residual is not a normal distribution\n",
    "\n",
    "    fig = plt.figure(figsize=(12,8))\n",
    "    ax0 = fig.add_subplot(111)\n",
    "\n",
    "    sns.distplot(resid ,fit = stats.norm, ax = ax0) # need to import scipy.stats\n",
    "\n",
    "    # Get the fitted parameters used by the function\n",
    "    (mu, sigma) = stats.norm.fit(resid)\n",
    "\n",
    "    #Now plot the distribution using \n",
    "    plt.legend(['Normal dist. ($\\mu=$ {:.2f} and $\\sigma=$ {:.2f} )'.format(mu, sigma)], loc='best')\n",
    "    plt.ylabel('Frequency')\n",
    "    plt.title('Residual distribution')\n",
    "\n",
    "\n",
    "    # ACF and PACF\n",
    "    fig = plt.figure(figsize=(12,8))\n",
    "    ax1 = fig.add_subplot(211)\n",
    "    fig = sm.graphics.tsa.plot_acf(model.resid, lags=40, ax=ax1)\n",
    "    ax2 = fig.add_subplot(212)\n",
    "    fig = sm.graphics.tsa.plot_pacf(model.resid, lags=40, ax=ax2)"
   ],
   "execution_count": null,
   "outputs": []
  },
  {
   "metadata": {
    "trusted": false,
    "_uuid": "81807ffd06a99095c63f273875d739c48e72fa53"
   },
   "cell_type": "code",
   "source": [
    "test_stationarity(sales_a)"
   ],
   "execution_count": null,
   "outputs": []
  },
  {
   "metadata": {
    "_uuid": "4c95908e946390144098916245209765cb2eea56"
   },
   "cell_type": "markdown",
   "source": [
    "So now we need to transform the data to make it more stationary. There are various transformations you can do to stationarize the data.\n",
    "The first thing we want to do is take a first difference of the data. This should help to eliminate the overall trend from the data."
   ]
  },
  {
   "metadata": {
    "trusted": false,
    "_uuid": "66da4c259e5f8d3c685a1a866554e2ad51194c45"
   },
   "cell_type": "code",
   "source": [
    "first_diff_a = sales_a - sales_a.shift(1)\n",
    "first_diff_a = first_diff_a.dropna(inplace = False)\n",
    "test_stationarity(first_diff_a, window = 12)"
   ],
   "execution_count": null,
   "outputs": []
  },
  {
   "metadata": {
    "trusted": false,
    "_uuid": "0b910ba81b44d3cde0d91d8cb6f60dc9479ffb2b"
   },
   "cell_type": "code",
   "source": [
    "test_stationarity(sales_b)"
   ],
   "execution_count": null,
   "outputs": []
  },
  {
   "metadata": {
    "trusted": false,
    "_uuid": "e675554003d77ca3f5319aa9187676c6b28acc86"
   },
   "cell_type": "code",
   "source": [
    "first_diff_b = sales_b - sales_b.shift(1)\n",
    "first_diff_b = first_diff_b.dropna(inplace = False)\n",
    "test_stationarity(first_diff_b, window = 12)"
   ],
   "execution_count": null,
   "outputs": []
  },
  {
   "metadata": {
    "trusted": false,
    "_uuid": "61687fbb473831bfa549a454f8bb6fcfd672560f"
   },
   "cell_type": "code",
   "source": [
    "test_stationarity(sales_c)"
   ],
   "execution_count": null,
   "outputs": []
  },
  {
   "metadata": {
    "trusted": false,
    "_uuid": "d8f27a04a80f8188440559915fc6cbf61179b526"
   },
   "cell_type": "code",
   "source": [
    "first_diff_c = sales_c - sales_c.shift(1)\n",
    "first_diff_c = first_diff_c.dropna(inplace = False)\n",
    "test_stationarity(first_diff_c, window = 12)"
   ],
   "execution_count": null,
   "outputs": []
  },
  {
   "metadata": {
    "trusted": false,
    "_uuid": "c10c5a5ead6dc12e6359d70bc7a59823af16c8f9"
   },
   "cell_type": "code",
   "source": [
    "test_stationarity(sales_d)"
   ],
   "execution_count": null,
   "outputs": []
  },
  {
   "metadata": {
    "trusted": false,
    "_uuid": "3f9b8040b9dcf5b70c124c3dcdd43d024142867c"
   },
   "cell_type": "code",
   "source": [
    "first_diff_d = sales_d - sales_d.shift(1)\n",
    "first_diff_d = first_diff_d.dropna(inplace = False)\n",
    "test_stationarity(first_diff_d, window = 12)"
   ],
   "execution_count": null,
   "outputs": []
  },
  {
   "metadata": {
    "_uuid": "974ae9df32f4554f5b43172947abc1605ca83734"
   },
   "cell_type": "markdown",
   "source": [
    "#### Plot the ACF and PACF charts and find the optimal parameters\n",
    "\n",
    "The next step is to determine the tuning parameters of the model by looking at the autocorrelation and partial autocorrelation graphs. There are many rules and best practices about how to select the appropriate AR, MA, SAR, and MAR terms for the model. The chart below provides a brief guide on how to read the autocorrelation and partial autocorrelation graphs to select the proper terms. The big issue as with all models is that you don’t want to overfit your model to the data by using too many terms.\n",
    "\n",
    "The next step in ourtime series analysis is to review Autocorrelation Function (ACF) and Partial Autocorrelation Function (PACF) plots.\n",
    "\n",
    "ACF is a measure of the correlation between the timeseries with a lagged version of itself. For instance at lag 5, ACF would compare series at time instant ‘t1’…’tn’ with series at instant ‘t1-5’…’tn-5’ (t1-5 and tn being end points).\n",
    "\n",
    "PACF, on the other hand, measures the correlation between the timeseries with a lagged version of itself but after eliminating the variations explained by the intervening comparisons. Eg. at lag 5, it will check the correlation but remove the effects already explained by lags 1 to 4."
   ]
  },
  {
   "metadata": {
    "trusted": false,
    "_uuid": "6bb62a22a366c45e597bef67091482e14e122a26"
   },
   "cell_type": "code",
   "source": [
    "# figure for subplots\n",
    "plt.figure(figsize = (12, 8))\n",
    "\n",
    "# acf and pacf for A\n",
    "plt.subplot(421); plot_acf(sales_a, lags = 50, ax = plt.gca(), color = c)\n",
    "plt.subplot(422); plot_pacf(sales_a, lags = 50, ax = plt.gca(), color = c)\n",
    "\n",
    "# acf and pacf for B\n",
    "plt.subplot(423); plot_acf(sales_b, lags = 50, ax = plt.gca(), color = c)\n",
    "plt.subplot(424); plot_pacf(sales_b, lags = 50, ax = plt.gca(), color = c)\n",
    "\n",
    "# acf and pacf for C\n",
    "plt.subplot(425); plot_acf(sales_c, lags = 50, ax = plt.gca(), color = c)\n",
    "plt.subplot(426); plot_pacf(sales_c, lags = 50, ax = plt.gca(), color = c)\n",
    "\n",
    "# acf and pacf for D\n",
    "plt.subplot(427); plot_acf(sales_d, lags = 50, ax = plt.gca(), color = c)\n",
    "plt.subplot(428); plot_pacf(sales_d, lags = 50, ax = plt.gca(), color = c)\n",
    "\n",
    "plt.show()"
   ],
   "execution_count": null,
   "outputs": []
  },
  {
   "metadata": {
    "trusted": false,
    "_uuid": "59ff4f6bb14442d5c830afcca81fe1c6afffc19a"
   },
   "cell_type": "code",
   "source": [
    "# figure for subplots\n",
    "plt.figure(figsize = (12, 8))\n",
    "\n",
    "# acf and pacf for A\n",
    "plt.subplot(421); plot_acf(first_diff_a, lags = 50, ax = plt.gca(), color = c)\n",
    "plt.subplot(422); plot_pacf(first_diff_a, lags = 50, ax = plt.gca(), color = c)\n",
    "\n",
    "# acf and pacf for B\n",
    "plt.subplot(423); plot_acf(first_diff_b, lags = 50, ax = plt.gca(), color = c)\n",
    "plt.subplot(424); plot_pacf(first_diff_b, lags = 50, ax = plt.gca(), color = c)\n",
    "\n",
    "# acf and pacf for C\n",
    "plt.subplot(425); plot_acf(first_diff_c, lags = 50, ax = plt.gca(), color = c)\n",
    "plt.subplot(426); plot_pacf(first_diff_c, lags = 50, ax = plt.gca(), color = c)\n",
    "\n",
    "# acf and pacf for D\n",
    "plt.subplot(427); plot_acf(first_diff_d, lags = 50, ax = plt.gca(), color = c)\n",
    "plt.subplot(428); plot_pacf(first_diff_d, lags = 50, ax = plt.gca(), color = c)\n",
    "\n",
    "plt.show()"
   ],
   "execution_count": null,
   "outputs": []
  },
  {
   "metadata": {
    "_uuid": "1dc25e0c28fe755ae814f89d71d173982654f74a"
   },
   "cell_type": "markdown",
   "source": [
    "We can read these plots horizontally. Each horizontal pair is for one 'StoreType', from A to D. In general, those plots are showing the correlation of the series with itself, lagged by x time units correlation of the series with itself, lagged by x time units.\n",
    "\n",
    "There is at two things common for each pair of plots: non randomnes of the time series and high lag-1 (which will probably need a higher order of differencing d/D).\n",
    "\n",
    "- Type A and type B: Both types show seasonalities at certain lags. For type A, it is each 12th observation with positives spikes at the 12 (s) and 24(2s) lags and so on. For type B it's a weekly trend with positives spikes at the 7(s), 14(2s), 21(3s) and 28(4s) lags.\n",
    "- Type C and type D: Plots of these two types are more complex. It seems like each observation is coorrelated to its adjacent observations."
   ]
  },
  {
   "metadata": {
    "_uuid": "ab80ceb07a932c22b17ff5b071dfa2bb6cc1380b"
   },
   "cell_type": "markdown",
   "source": [
    "### Build Model:\n",
    "\n",
    "How to determin p, d, q\n",
    "It's easy to determin I. In our case, we see the first order differencing make the ts stationary. I = 1.\n",
    "\n",
    "AR model might be investigated first with lag length selected from the PACF or via empirical investigation. In our case, it's clearly that within 11 lags the AR is significant. Which means, we can use AR = 11\n",
    "\n",
    "To avoid the potential for incorrectly specifying the MA order (in the case where the MA is first tried then the MA order is being set to 0), it may often make sense to extend the lag observed from the last significant term in the PACF.\n"
   ]
  },
  {
   "metadata": {
    "trusted": false,
    "_uuid": "1df8d074fe2aa4cd275d138dd986b98aea337ba0"
   },
   "cell_type": "code",
   "source": [
    "arima_mod_a = sm.tsa.ARIMA(sales_a, (11,1,0)).fit(disp=False)\n",
    "print(arima_mod_a.summary())"
   ],
   "execution_count": null,
   "outputs": []
  },
  {
   "metadata": {
    "_uuid": "2e71f0c6e89f8d4d56d36bcac2feda05c1098342"
   },
   "cell_type": "markdown",
   "source": [
    "What is interesting is that when the AR model is appropriately specified, the the residuals from this model can be used to directly observe the uncorrelated error. This residual can be used to further investigate alternative MA and ARMA model specifications directly by regression."
   ]
  },
  {
   "metadata": {
    "trusted": false,
    "_uuid": "b56efc27d87a0f4c1a198f0baa5852ddac17c9c2"
   },
   "cell_type": "code",
   "source": [
    "residual_plot(arima_mod_a)"
   ],
   "execution_count": null,
   "outputs": []
  },
  {
   "metadata": {
    "trusted": false,
    "_uuid": "9af1ece0292b47f5671dfe2f5c57dfd3199d9575"
   },
   "cell_type": "code",
   "source": [
    "sarima_mod_a = sm.tsa.statespace.SARIMAX(sales_a, trend='n', order=(11,1,0), seasonal_order=(2,1,0,12)).fit()\n",
    "print(sarima_mod_a.summary())"
   ],
   "execution_count": null,
   "outputs": []
  },
  {
   "metadata": {
    "trusted": false,
    "_uuid": "dd75ce337b8702fc3ee19bf413f28b680f76d4f7"
   },
   "cell_type": "code",
   "source": [
    "residual_plot(sarima_mod_a)"
   ],
   "execution_count": null,
   "outputs": []
  },
  {
   "metadata": {
    "trusted": false,
    "_uuid": "3cab4685844193529a07a807f7ff059d68a0d1c8"
   },
   "cell_type": "code",
   "source": [
    "print(sales_a.shape)\n",
    "sales_a.head()"
   ],
   "execution_count": null,
   "outputs": []
  },
  {
   "metadata": {
    "trusted": false,
    "_uuid": "99ac2c2ead37e4023ba895f54fd1eea14ede51cf"
   },
   "cell_type": "code",
   "source": [
    "sales_a_reindex = sales_a.reindex(index=sales_a.index[::-1])"
   ],
   "execution_count": null,
   "outputs": []
  },
  {
   "metadata": {
    "trusted": false,
    "_uuid": "ca432b8339caa2ae39148ed1c1f265ad76abd895"
   },
   "cell_type": "code",
   "source": [
    "sales_a_reindex"
   ],
   "execution_count": null,
   "outputs": []
  },
  {
   "metadata": {
    "trusted": false,
    "_uuid": "5ba490999af8dae81bf97f48187fc8c86ff98029"
   },
   "cell_type": "code",
   "source": [
    "mydata_a = sales_a_reindex\n",
    "#mydata_a = sales_a_reindex.loc['2013-01-02':'2015-01-21']\n",
    "#mydata_test = data.loc['2017-01-01':]"
   ],
   "execution_count": null,
   "outputs": []
  },
  {
   "metadata": {
    "trusted": false,
    "_uuid": "58565e349865ba83c923b38642cd34f81465a99d"
   },
   "cell_type": "code",
   "source": [
    "print(mydata_a)"
   ],
   "execution_count": null,
   "outputs": []
  },
  {
   "metadata": {
    "trusted": false,
    "_uuid": "d9d7e8fba3c8b28f06af258853793ac28d0fc361"
   },
   "cell_type": "code",
   "source": [
    "temp_df =pd.DataFrame(mydata_a)"
   ],
   "execution_count": null,
   "outputs": []
  },
  {
   "metadata": {
    "trusted": false,
    "_uuid": "743b7e5f2023d73162ae3b95c8f84d43a93f633a"
   },
   "cell_type": "code",
   "source": [
    "mydata_a = temp_df"
   ],
   "execution_count": null,
   "outputs": []
  },
  {
   "metadata": {
    "trusted": false,
    "_uuid": "c12048dcf748397e0676f8ec5dedfc6bea9f5c07"
   },
   "cell_type": "code",
   "source": [
    "sarima_mod_a_train = sm.tsa.statespace.SARIMAX(mydata_a, trend='n', order=(11,1,0), seasonal_order=(2,1,0,12)).fit()\n",
    "print(sarima_mod_a_train.summary())"
   ],
   "execution_count": null,
   "outputs": []
  },
  {
   "metadata": {
    "scrolled": true,
    "trusted": false,
    "_uuid": "ef15da8730dd21eab21a02fca9365091819ee8fa"
   },
   "cell_type": "code",
   "source": [
    "residual_plot(sarima_mod_a_train)"
   ],
   "execution_count": null,
   "outputs": []
  },
  {
   "metadata": {
    "trusted": false,
    "_uuid": "c349d0a3021098dd4e0ecce4b6ae0bf2eefeb1b9"
   },
   "cell_type": "code",
   "source": [
    "plt.figure(figsize=(50,10))\n",
    "plt.plot(mydata_a, c='red')\n",
    "plt.plot(sarima_mod_a_train.fittedvalues, c='blue')\n",
    "plt.ylabel(\"Sales\")\n",
    "plt.xlabel(\"Time\")"
   ],
   "execution_count": null,
   "outputs": []
  },
  {
   "metadata": {
    "scrolled": false,
    "trusted": false,
    "_uuid": "9f2bb30f77d18e0dd4d1dadfab94cb5ae979b4a2"
   },
   "cell_type": "code",
   "source": [
    "#forecast = sarima_mod_a_train.predict(start =mydata_a.loc['2015-01-21':], dynamic= True)  \n",
    "#plt.plot(mydata_a.loc['2013-01-02':'2015-01-21'])\n",
    "plt.figure(figsize=(30,10))\n",
    "forecast = sarima_mod_a_train.predict(start = 625, end = 783, dynamic= False)  \n",
    "plt.plot(mydata_a.iloc[1:625])\n",
    "plt.plot(forecast, c = \"red\")\n",
    "forecast\n",
    "#pred_ci = forecast.conf_int()\n",
    "#pred_ci.head()\n",
    "\n",
    "#start_index = 624\n",
    "#end_index = 784\n",
    "#mydata_a['forecast'] = sarima_mod_a_train.predict(start = start_index, end= end_index, dynamic= True)  \n",
    "#mydata_a[start_index:end_index][['sales', 'forecast']].plot(figsize=(12, 8))"
   ],
   "execution_count": null,
   "outputs": []
  },
  {
   "metadata": {
    "collapsed": true,
    "trusted": false,
    "_uuid": "cf6b5c62f759207a0dca47c75f7443bb1e093c7f"
   },
   "cell_type": "code",
   "source": [
    "arima_mod_b = sm.tsa.ARIMA(sales_b, (1,1,0)).fit(disp=False)\n",
    "print(arima_mod_b.summary())"
   ],
   "execution_count": null,
   "outputs": []
  },
  {
   "metadata": {
    "scrolled": false,
    "trusted": false,
    "_uuid": "105bf2bf5c68966958da4cc25528db0f31e92046"
   },
   "cell_type": "code",
   "source": [
    "residual_plot(arima_mod_b)"
   ],
   "execution_count": null,
   "outputs": []
  },
  {
   "metadata": {
    "trusted": false,
    "_uuid": "0238820d7d5cbebe9256755712a4fe3eefeecb20"
   },
   "cell_type": "code",
   "source": [
    "sarima_mod_b = sm.tsa.statespace.SARIMAX(sales_b, trend='n', order=(11,1,0), seasonal_order=(2,1,0,12)).fit()\n",
    "print(sarima_mod_b.summary())"
   ],
   "execution_count": null,
   "outputs": []
  },
  {
   "metadata": {
    "trusted": false,
    "_uuid": "aade455595c10ba4108bbf542d90d628aa97c38b"
   },
   "cell_type": "code",
   "source": [
    "residual_plot(sarima_mod_b)"
   ],
   "execution_count": null,
   "outputs": []
  },
  {
   "metadata": {
    "trusted": false,
    "_uuid": "599c857a4071de3b9af6056ae7ff2ce242818918"
   },
   "cell_type": "code",
   "source": [
    "print(sales_b.shape)\n",
    "sales_b.head()"
   ],
   "execution_count": null,
   "outputs": []
  },
  {
   "metadata": {
    "trusted": false,
    "_uuid": "8849430987788a9595e59efcce40c99510ce2dc0"
   },
   "cell_type": "code",
   "source": [
    "sales_b_reindex = sales_b.reindex(index=sales_b.index[::-1])"
   ],
   "execution_count": null,
   "outputs": []
  },
  {
   "metadata": {
    "trusted": false,
    "_uuid": "c9efde5c0cf7a7f5d313af5701d397654ce0a6d2"
   },
   "cell_type": "code",
   "source": [
    "#sales_b_reindex.head(100)"
   ],
   "execution_count": null,
   "outputs": []
  },
  {
   "metadata": {
    "trusted": false,
    "_uuid": "3c8db36a9daf76fed6e8c11fbf985535c19a6c08"
   },
   "cell_type": "code",
   "source": [
    "mydata_b = sales_b_reindex"
   ],
   "execution_count": null,
   "outputs": []
  },
  {
   "metadata": {
    "trusted": false,
    "_uuid": "66add74d28a341dda8f2e9fcabcecf2ea61accf7"
   },
   "cell_type": "code",
   "source": [
    "temp_df =pd.DataFrame(mydata_b)"
   ],
   "execution_count": null,
   "outputs": []
  },
  {
   "metadata": {
    "trusted": false,
    "_uuid": "db6df64e66cc21f12f9281d20dae30a7f0100910"
   },
   "cell_type": "code",
   "source": [
    "mydata_b = temp_df"
   ],
   "execution_count": null,
   "outputs": []
  },
  {
   "metadata": {
    "trusted": false,
    "_uuid": "d995551b3090c26900bc5dec190cdc6326747df4"
   },
   "cell_type": "code",
   "source": [
    "sarima_mod_b_train = sm.tsa.statespace.SARIMAX(mydata_b, trend='n', order=(11,1,0), seasonal_order=(2,1,0,12)).fit()\n",
    "print(sarima_mod_b_train.summary())"
   ],
   "execution_count": null,
   "outputs": []
  },
  {
   "metadata": {
    "trusted": false,
    "_uuid": "74aaa9146e5608e2c8b1cc090fba8e6ff23f8453"
   },
   "cell_type": "code",
   "source": [
    "residual_plot(sarima_mod_b_train)"
   ],
   "execution_count": null,
   "outputs": []
  },
  {
   "metadata": {
    "trusted": false,
    "_uuid": "5873a7cbf7934aebd8cf606600306f8f1b46a279"
   },
   "cell_type": "code",
   "source": [
    "plt.figure(figsize=(50,10))\n",
    "plt.plot(mydata_b, c='red')\n",
    "plt.plot(sarima_mod_b_train.fittedvalues, c='blue')\n",
    "plt.ylabel(\"Sales\")\n",
    "plt.xlabel(\"Time\")"
   ],
   "execution_count": null,
   "outputs": []
  },
  {
   "metadata": {
    "trusted": false,
    "_uuid": "e380b3b28022fcf4fb02fcc8aeb991e28ae8e563"
   },
   "cell_type": "code",
   "source": [
    "plt.figure(figsize=(30,10))\n",
    "forecast = sarima_mod_b_train.predict(start = 755, end = 941, dynamic= False)  \n",
    "plt.plot(mydata_b.iloc[1:755])\n",
    "plt.plot(forecast, c = \"red\")\n",
    "forecast"
   ],
   "execution_count": null,
   "outputs": []
  },
  {
   "metadata": {
    "trusted": false,
    "_uuid": "5c61ac5abd3573aef7dc33230aa86fa2fcc7d8ff"
   },
   "cell_type": "code",
   "source": [
    "arima_mod_c = sm.tsa.ARIMA(sales_c, (11,1,0)).fit(disp=False)\n",
    "print(arima_mod_c.summary())"
   ],
   "execution_count": null,
   "outputs": []
  },
  {
   "metadata": {
    "trusted": false,
    "_uuid": "23d82cd1e161fbacfc21585de0cd9980bc8d0f39"
   },
   "cell_type": "code",
   "source": [
    "residual_plot(arima_mod_c)"
   ],
   "execution_count": null,
   "outputs": []
  },
  {
   "metadata": {
    "trusted": false,
    "_uuid": "7d863c62c913c3aba1801d8342ae805a41359638"
   },
   "cell_type": "code",
   "source": [
    "sarima_mod_c = sm.tsa.statespace.SARIMAX(sales_c, trend='n', order=(11,1,0)).fit()\n",
    "print(sarima_mod_c.summary())"
   ],
   "execution_count": null,
   "outputs": []
  },
  {
   "metadata": {
    "scrolled": true,
    "trusted": false,
    "_uuid": "deae6a832805cc4aa8e1359a6fe0114b8c2594c8"
   },
   "cell_type": "code",
   "source": [
    "residual_plot(sarima_mod_c)"
   ],
   "execution_count": null,
   "outputs": []
  },
  {
   "metadata": {
    "trusted": false,
    "_uuid": "86a936247bac7dfb70c6c2c39b25baf98f22afb9"
   },
   "cell_type": "code",
   "source": [
    "sales_c_reindex = sales_c.reindex(index=sales_c.index[::-1])"
   ],
   "execution_count": null,
   "outputs": []
  },
  {
   "metadata": {
    "trusted": false,
    "_uuid": "f5dabc2a5d60b98ebe0211b5dc3baa5a8e06b62f"
   },
   "cell_type": "code",
   "source": [
    "mydata_c = sales_c_reindex"
   ],
   "execution_count": null,
   "outputs": []
  },
  {
   "metadata": {
    "trusted": false,
    "_uuid": "eae4837db4b842494e59b421df93037815c5447b"
   },
   "cell_type": "code",
   "source": [
    "temp_df =pd.DataFrame(mydata_c)"
   ],
   "execution_count": null,
   "outputs": []
  },
  {
   "metadata": {
    "trusted": false,
    "_uuid": "b7236ae6cd7a93dfd3c47756cf148929e94e71d3"
   },
   "cell_type": "code",
   "source": [
    "mydata_c = temp_df"
   ],
   "execution_count": null,
   "outputs": []
  },
  {
   "metadata": {
    "trusted": false,
    "_uuid": "4f28c5ae311dcb82ad4383c6da5086beb216c2c7"
   },
   "cell_type": "code",
   "source": [
    "sarima_mod_c_train = sm.tsa.statespace.SARIMAX(mydata_c, trend='n', order=(11,1,0), seasonal_order=(2,1,0,12)).fit()\n",
    "print(sarima_mod_c_train.summary())"
   ],
   "execution_count": null,
   "outputs": []
  },
  {
   "metadata": {
    "scrolled": true,
    "trusted": false,
    "_uuid": "5bde23c9b69d4ec12510aa4cf911d1d1f173247f"
   },
   "cell_type": "code",
   "source": [
    "residual_plot(sarima_mod_c_train)"
   ],
   "execution_count": null,
   "outputs": []
  },
  {
   "metadata": {
    "trusted": false,
    "_uuid": "7930db3d845be79530c1edcebf87c5e561e3f9ae"
   },
   "cell_type": "code",
   "source": [
    "print(sales_c.shape)\n",
    "sales_c.head()"
   ],
   "execution_count": null,
   "outputs": []
  },
  {
   "metadata": {
    "trusted": false,
    "_uuid": "8ed651f64dc58c8369eeaec12422b4ce0aeb2474"
   },
   "cell_type": "code",
   "source": [
    "plt.figure(figsize=(50,10))\n",
    "plt.plot(mydata_c, c='red')\n",
    "plt.plot(sarima_mod_c_train.fittedvalues, c='blue')\n",
    "plt.ylabel(\"Sales\")\n",
    "plt.xlabel(\"Time\")"
   ],
   "execution_count": null,
   "outputs": []
  },
  {
   "metadata": {
    "trusted": false,
    "_uuid": "9f5ca9b14bbb254ff09c9dc030590bd7fcb5626f"
   },
   "cell_type": "code",
   "source": [
    "plt.figure(figsize=(30,10))\n",
    "forecast = sarima_mod_c_train.predict(start = 625, end = 780, dynamic= False)  \n",
    "plt.plot(mydata_c.iloc[1:625])\n",
    "plt.plot(forecast, c = \"red\")\n",
    "forecast"
   ],
   "execution_count": null,
   "outputs": []
  },
  {
   "metadata": {
    "trusted": false,
    "_uuid": "5796e1b9774a7cf9091e9246bc5417e6dbe8ec15"
   },
   "cell_type": "code",
   "source": [
    "arima_mod_d = sm.tsa.ARIMA(sales_d, (11,1,0)).fit(disp=False)\n",
    "print(arima_mod_d.summary())"
   ],
   "execution_count": null,
   "outputs": []
  },
  {
   "metadata": {
    "trusted": false,
    "_uuid": "e9fc7b3aecb2f3ef9f5f5ac1314eed0695df233c"
   },
   "cell_type": "code",
   "source": [
    "residual_plot(arima_mod_d)"
   ],
   "execution_count": null,
   "outputs": []
  },
  {
   "metadata": {
    "trusted": false,
    "_uuid": "50607536fed6dcd9a9f869e016a4b431b71b730e"
   },
   "cell_type": "code",
   "source": [
    "sarima_mod_d = sm.tsa.statespace.SARIMAX(sales_d, trend='n', order=(11,1,0),seasonal_order=(2,1,0,12)).fit()\n",
    "print(sarima_mod_d.summary())"
   ],
   "execution_count": null,
   "outputs": []
  },
  {
   "metadata": {
    "trusted": false,
    "_uuid": "273b7781f38968559bc34f8054b2b176a272808f"
   },
   "cell_type": "code",
   "source": [
    "residual_plot(sarima_mod_d)"
   ],
   "execution_count": null,
   "outputs": []
  },
  {
   "metadata": {
    "trusted": false,
    "_uuid": "0f204ce54195bfcb64e3a09d56bd9d61c91ff5d6"
   },
   "cell_type": "code",
   "source": [
    "print(sales_d.shape)\n",
    "sales_d.head()"
   ],
   "execution_count": null,
   "outputs": []
  },
  {
   "metadata": {
    "trusted": false,
    "_uuid": "c4bf5c7567be2d2274d69b36301e22629ebf2fe7"
   },
   "cell_type": "code",
   "source": [
    "sales_d_reindex = sales_d.reindex(index=sales_d.index[::-1])"
   ],
   "execution_count": null,
   "outputs": []
  },
  {
   "metadata": {
    "trusted": false,
    "_uuid": "5fd2708cd6933c9ad2dd1070f7df75a9f1aefdca"
   },
   "cell_type": "code",
   "source": [
    "mydata_d = sales_d_reindex"
   ],
   "execution_count": null,
   "outputs": []
  },
  {
   "metadata": {
    "trusted": false,
    "_uuid": "d15f98929aece603e02143ef767034e65127b1ac"
   },
   "cell_type": "code",
   "source": [
    "temp_df =pd.DataFrame(mydata_d)"
   ],
   "execution_count": null,
   "outputs": []
  },
  {
   "metadata": {
    "trusted": false,
    "_uuid": "fc15b9b221cf0cdf1943f79d67226c56666a27cb"
   },
   "cell_type": "code",
   "source": [
    "mydata_d = temp_df"
   ],
   "execution_count": null,
   "outputs": []
  },
  {
   "metadata": {
    "trusted": false,
    "_uuid": "c784cd2d0d3528fe3c637a81262a278a9275b0c1"
   },
   "cell_type": "code",
   "source": [
    "sarima_mod_d_train = sm.tsa.statespace.SARIMAX(mydata_d, trend='n', order=(11,1,0),seasonal_order=(2,1,0,12)).fit()\n",
    "print(sarima_mod_d_train.summary())"
   ],
   "execution_count": null,
   "outputs": []
  },
  {
   "metadata": {
    "trusted": false,
    "_uuid": "9628f10de2073e8bca291ac89c13a1ecee2ca077"
   },
   "cell_type": "code",
   "source": [
    "residual_plot(sarima_mod_d_train)"
   ],
   "execution_count": null,
   "outputs": []
  },
  {
   "metadata": {
    "trusted": false,
    "_uuid": "8bfb39fb4311c6f69a7217688063d33c8e4a435c"
   },
   "cell_type": "code",
   "source": [
    "# Stote type D\n",
    "plt.figure(figsize=(50,10))\n",
    "plt.plot(mydata_d, c='red')\n",
    "plt.plot(sarima_mod_d_train.fittedvalues, c='blue')\n",
    "plt.ylabel(\"Sales\")\n",
    "plt.xlabel(\"Time\")"
   ],
   "execution_count": null,
   "outputs": []
  },
  {
   "metadata": {
    "trusted": false,
    "_uuid": "047e0e6f930db61e4ef54c62199a993957f72e29"
   },
   "cell_type": "code",
   "source": [
    "plt.figure(figsize=(30,10))\n",
    "forecast = sarima_mod_d_train.predict(start = 495, end = 620, dynamic= False)  \n",
    "plt.plot(mydata_d.iloc[1:495])\n",
    "plt.plot(forecast, c = \"red\")\n",
    "forecast"
   ],
   "execution_count": null,
   "outputs": []
  },
  {
   "metadata": {
    "_uuid": "7fbee5381c18f7bf0a590f39811cd2f046942d59"
   },
   "cell_type": "markdown",
   "source": [
    "#### Conclusion\n",
    "\n",
    "#### Pros\n",
    "- Arima can catch interactions between external features, which could improve the forecasting power of a model, But in case of Facebook prophet we cant use interactions term.\n",
    "\n",
    "- Eventhough Prophet offers an automated solution for ARIMA, this methodology is under development and not completely stable.\n",
    "\n",
    "#### Cons\n",
    "- Fitting seasonal ARIMA model needs 4 to 5 whole seasons in the dataset, which can be the the biggest drawback for new companies.\n",
    "\n",
    "- Seasonal ARIMA in Python has 7 hyperparameters which can be tuned only manually affecting significantly the speed of the forecasting process."
   ]
  },
  {
   "metadata": {
    "trusted": false,
    "_uuid": "bf021ecdfc9b5cff5479f85678916c65d03df789"
   },
   "cell_type": "markdown",
   "source": [
    "Want to see more of Kernels like this one? Leave an upvote then."
   ]
  }
 ],
 "metadata": {
  "kernelspec": {
   "display_name": "Python 3",
   "language": "python",
   "name": "python3"
  },
  "language_info": {
   "name": "python",
   "version": "3.6.6",
   "mimetype": "text/x-python",
   "codemirror_mode": {
    "name": "ipython",
    "version": 3
   },
   "pygments_lexer": "ipython3",
   "nbconvert_exporter": "python",
   "file_extension": ".py"
  }
 },
 "nbformat": 4,
 "nbformat_minor": 1
}
