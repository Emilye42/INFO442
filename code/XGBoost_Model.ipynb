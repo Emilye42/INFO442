{
 "cells": [
  {
   "cell_type": "markdown",
   "metadata": {},
   "source": [
    "# XGBoost Model"
   ]
  },
  {
   "cell_type": "code",
   "execution_count": 5,
   "metadata": {},
   "outputs": [],
   "source": [
    "import pandas as pd\n",
    "import xgboost as xgb\n",
    "from sklearn.model_selection import train_test_split\n",
    "from sklearn.metrics import mean_squared_error\n",
    "from math import sqrt\n",
    "import matplotlib.pyplot as plt"
   ]
  },
  {
   "cell_type": "markdown",
   "metadata": {},
   "source": [
    "## Step1 Data loading"
   ]
  },
  {
   "cell_type": "code",
   "execution_count": 3,
   "metadata": {},
   "outputs": [
    {
     "name": "stderr",
     "output_type": "stream",
     "text": [
      "C:\\Users\\gejunkai\\AppData\\Local\\Temp\\ipykernel_5908\\1384424085.py:2: DtypeWarning: Columns (7) have mixed types. Specify dtype option on import or set low_memory=False.\n",
      "  train = pd.read_csv('../data/preprocessed_train.csv', index_col='Date', parse_dates=True)\n"
     ]
    },
    {
     "data": {
      "text/plain": [
       "((1017209, 8), (41088, 8), (1115, 10))"
      ]
     },
     "execution_count": 3,
     "metadata": {},
     "output_type": "execute_result"
    }
   ],
   "source": [
    "store = pd.read_csv('../data/preprocessed_store.csv')\n",
    "train = pd.read_csv('../data/preprocessed_train.csv', index_col='Date', parse_dates=True)\n",
    "test = pd.read_csv('../data/preprocessed_test.csv')\n",
    "train.shape, test.shape, store.shape"
   ]
  },
  {
   "cell_type": "code",
   "execution_count": 6,
   "metadata": {},
   "outputs": [],
   "source": [
    "# Merge train data with store data\n",
    "train_store_joined = train.merge(store, on='Store', how='left')\n",
    "\n",
    "# Ensure the index is a DatetimeIndex\n",
    "if not isinstance(train_store_joined.index, pd.DatetimeIndex):\n",
    "    train_store_joined.index = pd.to_datetime(train_store_joined.index)\n",
    "\n",
    "# Extract Year, Month, WeekofYear from the date index\n",
    "train_store_joined['Year'] = train_store_joined.index.year\n",
    "train_store_joined['Month'] = train_store_joined.index.month\n",
    "train_store_joined['WeekofYear'] = train_store_joined.index.isocalendar().week"
   ]
  },
  {
   "cell_type": "markdown",
   "metadata": {},
   "source": [
    "## Step2 Data Preprocessing"
   ]
  },
  {
   "cell_type": "code",
   "execution_count": 7,
   "metadata": {},
   "outputs": [],
   "source": [
    "# Drop unnecessary columns\n",
    "ts_xgboost = train_store_joined.copy()\n",
    "ts_xgboost = ts_xgboost.drop(['Customers', 'PromoInterval'], axis=1)\n",
    "\n",
    "# Combine similar columns into one and drop old columns\n",
    "ts_xgboost['CompetitionOpen'] = 12 * (ts_xgboost['Year'] - ts_xgboost['CompetitionOpenSinceYear']) + (ts_xgboost['Month'] - ts_xgboost['CompetitionOpenSinceMonth'])\n",
    "ts_xgboost['PromoOpen'] = 12 * (ts_xgboost['Year'] - ts_xgboost['Promo2SinceYear']) + (ts_xgboost['WeekofYear'] - ts_xgboost['Promo2SinceWeek']) / 4.0\n",
    "\n",
    "# Drop old columns\n",
    "ts_xgboost = ts_xgboost.drop([\"CompetitionOpenSinceMonth\", \"CompetitionOpenSinceYear\", \"Promo2SinceWeek\", \"Promo2SinceYear\"], axis=1)\n",
    "\n",
    "# Map categorical variables to numerical\n",
    "mappings = {0: 0, \"0\": 0, \"a\": 1, \"b\": 1, \"c\": 1}\n",
    "ts_xgboost[\"StateHoliday_cat\"] = ts_xgboost[\"StateHoliday\"].map(mappings)\n",
    "ts_xgboost[\"StoreType_cat\"] = ts_xgboost[\"StoreType\"].map(mappings)\n",
    "ts_xgboost[\"Assortment_cat\"] = ts_xgboost[\"Assortment\"].map(mappings)\n",
    "\n",
    "# Drop original categorical columns\n",
    "ts_xgboost = ts_xgboost.drop([\"StateHoliday\", \"StoreType\", \"Assortment\"], axis=1)"
   ]
  },
  {
   "cell_type": "markdown",
   "metadata": {},
   "source": [
    "## Step3 Separate features"
   ]
  },
  {
   "cell_type": "code",
   "execution_count": 8,
   "metadata": {},
   "outputs": [],
   "source": [
    "features = ts_xgboost.drop([\"Sales\"], axis=1)\n",
    "target = ts_xgboost[\"Sales\"]\n",
    "\n",
    "# Split data into training and testing sets\n",
    "X_train, X_test, y_train, y_test = train_test_split(features, target, test_size=0.20, random_state=42)\n"
   ]
  },
  {
   "cell_type": "markdown",
   "metadata": {},
   "source": [
    "## Step4 Train the model for the first time"
   ]
  },
  {
   "cell_type": "code",
   "execution_count": 9,
   "metadata": {},
   "outputs": [
    {
     "name": "stdout",
     "output_type": "stream",
     "text": [
      "[0]\ttrain-rmse:3217.91583\teval-rmse:3212.33027\n",
      "[1]\ttrain-rmse:2851.17097\teval-rmse:2847.00726\n",
      "[2]\ttrain-rmse:2638.13376\teval-rmse:2634.24265\n",
      "[3]\ttrain-rmse:2522.25328\teval-rmse:2519.67661\n",
      "[4]\ttrain-rmse:2454.93079\teval-rmse:2452.43361\n",
      "[5]\ttrain-rmse:2405.38850\teval-rmse:2403.78875\n",
      "[6]\ttrain-rmse:2377.09424\teval-rmse:2375.96569\n",
      "[7]\ttrain-rmse:2361.48649\teval-rmse:2360.47246\n",
      "[8]\ttrain-rmse:2337.42687\teval-rmse:2337.72298\n",
      "[9]\ttrain-rmse:2286.66927\teval-rmse:2287.37833\n",
      "[10]\ttrain-rmse:2263.08373\teval-rmse:2263.69922\n",
      "[11]\ttrain-rmse:2250.13253\teval-rmse:2250.32133\n",
      "[12]\ttrain-rmse:2216.30420\teval-rmse:2217.27893\n",
      "[13]\ttrain-rmse:2201.56665\teval-rmse:2202.29240\n",
      "[14]\ttrain-rmse:2172.15456\teval-rmse:2172.15775\n",
      "[15]\ttrain-rmse:2147.13042\teval-rmse:2147.31219\n",
      "[16]\ttrain-rmse:2118.96876\teval-rmse:2119.36173\n",
      "[17]\ttrain-rmse:2104.04091\teval-rmse:2104.34381\n",
      "[18]\ttrain-rmse:2059.10172\teval-rmse:2059.70024\n",
      "[19]\ttrain-rmse:2042.20427\teval-rmse:2043.33738\n",
      "[20]\ttrain-rmse:2033.59387\teval-rmse:2035.12551\n",
      "[21]\ttrain-rmse:2022.74350\teval-rmse:2024.12772\n",
      "[22]\ttrain-rmse:1989.44926\teval-rmse:1991.56196\n",
      "[23]\ttrain-rmse:1980.41106\teval-rmse:1982.91720\n",
      "[24]\ttrain-rmse:1923.98088\teval-rmse:1925.02574\n",
      "[25]\ttrain-rmse:1905.02907\teval-rmse:1907.55849\n",
      "[26]\ttrain-rmse:1887.63831\teval-rmse:1890.04841\n",
      "[27]\ttrain-rmse:1878.05864\teval-rmse:1880.60372\n",
      "[28]\ttrain-rmse:1871.38627\teval-rmse:1874.21113\n",
      "[29]\ttrain-rmse:1862.82411\teval-rmse:1865.65884\n",
      "[30]\ttrain-rmse:1844.25066\teval-rmse:1847.37386\n",
      "[31]\ttrain-rmse:1818.99166\teval-rmse:1822.82953\n",
      "[32]\ttrain-rmse:1796.52823\teval-rmse:1800.81988\n",
      "[33]\ttrain-rmse:1779.40315\teval-rmse:1784.29339\n",
      "[34]\ttrain-rmse:1775.03631\teval-rmse:1779.83556\n",
      "[35]\ttrain-rmse:1751.78101\teval-rmse:1757.75158\n",
      "[36]\ttrain-rmse:1746.65468\teval-rmse:1752.71881\n",
      "[37]\ttrain-rmse:1726.80256\teval-rmse:1732.28499\n",
      "[38]\ttrain-rmse:1711.47369\teval-rmse:1717.90863\n",
      "[39]\ttrain-rmse:1688.55191\teval-rmse:1695.41203\n",
      "[40]\ttrain-rmse:1667.13017\teval-rmse:1673.11650\n",
      "[41]\ttrain-rmse:1656.77711\teval-rmse:1663.13736\n",
      "[42]\ttrain-rmse:1645.79124\teval-rmse:1652.41735\n",
      "[43]\ttrain-rmse:1640.10973\teval-rmse:1647.35621\n",
      "[44]\ttrain-rmse:1630.71091\teval-rmse:1638.15768\n",
      "[45]\ttrain-rmse:1627.60661\teval-rmse:1634.97857\n",
      "[46]\ttrain-rmse:1619.38729\teval-rmse:1627.27741\n",
      "[47]\ttrain-rmse:1604.77196\teval-rmse:1612.71925\n",
      "[48]\ttrain-rmse:1599.08364\teval-rmse:1607.51370\n",
      "[49]\ttrain-rmse:1590.57562\teval-rmse:1598.99994\n",
      "[50]\ttrain-rmse:1581.27507\teval-rmse:1589.75294\n",
      "[51]\ttrain-rmse:1571.72332\teval-rmse:1580.14094\n",
      "[52]\ttrain-rmse:1566.33158\teval-rmse:1574.89535\n",
      "[53]\ttrain-rmse:1561.90557\teval-rmse:1570.41192\n",
      "[54]\ttrain-rmse:1554.92333\teval-rmse:1563.76980\n",
      "[55]\ttrain-rmse:1548.04716\teval-rmse:1557.31657\n",
      "[56]\ttrain-rmse:1540.20008\teval-rmse:1549.41610\n",
      "[57]\ttrain-rmse:1538.62050\teval-rmse:1547.80537\n",
      "[58]\ttrain-rmse:1528.08404\teval-rmse:1537.16003\n",
      "[59]\ttrain-rmse:1519.68722\teval-rmse:1528.68698\n",
      "[60]\ttrain-rmse:1512.25844\teval-rmse:1521.16849\n",
      "[61]\ttrain-rmse:1496.28067\teval-rmse:1504.59825\n",
      "[62]\ttrain-rmse:1490.42165\teval-rmse:1498.75508\n",
      "[63]\ttrain-rmse:1482.96059\teval-rmse:1491.34729\n",
      "[64]\ttrain-rmse:1481.66116\teval-rmse:1490.12470\n",
      "[65]\ttrain-rmse:1472.07839\teval-rmse:1480.60801\n",
      "[66]\ttrain-rmse:1462.36003\teval-rmse:1470.99484\n",
      "[67]\ttrain-rmse:1453.90521\teval-rmse:1462.82833\n",
      "[68]\ttrain-rmse:1446.56865\teval-rmse:1455.63838\n",
      "[69]\ttrain-rmse:1438.41153\teval-rmse:1447.82389\n",
      "[70]\ttrain-rmse:1432.36781\teval-rmse:1441.67742\n",
      "[71]\ttrain-rmse:1428.73880\teval-rmse:1437.95159\n",
      "[72]\ttrain-rmse:1422.92919\teval-rmse:1432.57889\n",
      "[73]\ttrain-rmse:1421.71383\teval-rmse:1431.46414\n",
      "[74]\ttrain-rmse:1417.99678\teval-rmse:1428.20755\n",
      "[75]\ttrain-rmse:1415.05227\teval-rmse:1425.48187\n",
      "[76]\ttrain-rmse:1413.82849\teval-rmse:1424.26511\n",
      "[77]\ttrain-rmse:1406.83847\teval-rmse:1417.45787\n",
      "[78]\ttrain-rmse:1401.62632\teval-rmse:1412.17703\n",
      "[79]\ttrain-rmse:1398.77840\teval-rmse:1409.51690\n",
      "[80]\ttrain-rmse:1397.45234\teval-rmse:1408.07056\n",
      "[81]\ttrain-rmse:1394.13196\teval-rmse:1404.62433\n",
      "[82]\ttrain-rmse:1392.10049\teval-rmse:1402.53483\n",
      "[83]\ttrain-rmse:1388.65521\teval-rmse:1398.97313\n",
      "[84]\ttrain-rmse:1385.63106\teval-rmse:1396.12116\n",
      "[85]\ttrain-rmse:1382.61047\teval-rmse:1392.97193\n",
      "[86]\ttrain-rmse:1381.25981\teval-rmse:1391.62039\n",
      "[87]\ttrain-rmse:1376.62230\teval-rmse:1387.23292\n",
      "[88]\ttrain-rmse:1375.04230\teval-rmse:1385.83606\n",
      "[89]\ttrain-rmse:1374.27326\teval-rmse:1385.04755\n",
      "[90]\ttrain-rmse:1370.90207\teval-rmse:1381.55561\n",
      "[91]\ttrain-rmse:1365.32889\teval-rmse:1376.28464\n",
      "[92]\ttrain-rmse:1363.13371\teval-rmse:1374.04940\n",
      "[93]\ttrain-rmse:1360.28696\teval-rmse:1371.14185\n",
      "[94]\ttrain-rmse:1356.17619\teval-rmse:1366.94911\n",
      "[95]\ttrain-rmse:1351.83077\teval-rmse:1362.92254\n",
      "[96]\ttrain-rmse:1348.28907\teval-rmse:1359.32893\n",
      "[97]\ttrain-rmse:1343.41473\teval-rmse:1354.35001\n",
      "[98]\ttrain-rmse:1340.47388\teval-rmse:1351.42655\n",
      "[99]\ttrain-rmse:1337.24351\teval-rmse:1348.29101\n",
      "RMSE of the XGBoost model: 1348.2910\n"
     ]
    }
   ],
   "source": [
    "params = {'max_depth': 6, 'booster': \"gbtree\", 'eta': 0.3, 'objective': 'reg:squarederror'} \n",
    "\n",
    "# Convert data to DMatrix format\n",
    "dtrain = xgb.DMatrix(X_train, y_train)\n",
    "dtest = xgb.DMatrix(X_test, y_test)\n",
    "\n",
    "# Monitor training and validation performance\n",
    "watchlist = [(dtrain, 'train'), (dtest, 'eval')]\n",
    "\n",
    "# Train the model\n",
    "xgboost = xgb.train(params, dtrain, num_boost_round=100, evals=watchlist, early_stopping_rounds=10, verbose_eval=True)\n",
    "\n",
    "# Predict the test set\n",
    "preds = xgboost.predict(dtest)\n",
    "\n",
    "# Calculate RMSE metric\n",
    "rms_xgboost = sqrt(mean_squared_error(y_test, preds))\n",
    "print(f\"RMSE of the XGBoost model: {rms_xgboost:.4f}\")"
   ]
  },
  {
   "cell_type": "markdown",
   "metadata": {},
   "source": [
    "## Step5 Retrain the model"
   ]
  },
  {
   "cell_type": "code",
   "execution_count": 10,
   "metadata": {},
   "outputs": [
    {
     "name": "stdout",
     "output_type": "stream",
     "text": [
      "[0]\ttrain-rmse:3594.11733\teval-rmse:3589.25355\n",
      "[1]\ttrain-rmse:3370.13411\teval-rmse:3366.00456\n",
      "[2]\ttrain-rmse:3168.24082\teval-rmse:3164.48210\n",
      "[3]\ttrain-rmse:2994.08487\teval-rmse:2990.55865\n",
      "[4]\ttrain-rmse:2843.40471\teval-rmse:2840.76934\n",
      "[5]\ttrain-rmse:2712.62922\teval-rmse:2710.42867\n",
      "[6]\ttrain-rmse:2597.41796\teval-rmse:2596.02640\n",
      "[7]\ttrain-rmse:2495.80118\teval-rmse:2495.40169\n",
      "[8]\ttrain-rmse:2400.49272\teval-rmse:2400.82709\n",
      "[9]\ttrain-rmse:2327.15388\teval-rmse:2327.87544\n",
      "[10]\ttrain-rmse:2262.02213\teval-rmse:2263.71210\n",
      "[11]\ttrain-rmse:2206.56418\teval-rmse:2208.66429\n",
      "[12]\ttrain-rmse:2149.26029\teval-rmse:2151.92031\n",
      "[13]\ttrain-rmse:2106.11956\teval-rmse:2109.03023\n",
      "[14]\ttrain-rmse:2070.04889\teval-rmse:2073.44925\n",
      "[15]\ttrain-rmse:2033.37825\teval-rmse:2036.61145\n",
      "[16]\ttrain-rmse:2004.06899\teval-rmse:2008.10331\n",
      "[17]\ttrain-rmse:1973.10083\teval-rmse:1977.32157\n",
      "[18]\ttrain-rmse:1947.54282\teval-rmse:1951.92595\n",
      "[19]\ttrain-rmse:1927.09955\teval-rmse:1931.87152\n",
      "[20]\ttrain-rmse:1908.18030\teval-rmse:1913.19584\n",
      "[21]\ttrain-rmse:1886.28719\teval-rmse:1891.34547\n",
      "[22]\ttrain-rmse:1870.13998\teval-rmse:1875.23154\n",
      "[23]\ttrain-rmse:1855.20288\teval-rmse:1860.63995\n",
      "[24]\ttrain-rmse:1835.68041\teval-rmse:1841.54146\n",
      "[25]\ttrain-rmse:1820.22110\teval-rmse:1826.13626\n",
      "[26]\ttrain-rmse:1809.19719\teval-rmse:1815.40867\n",
      "[27]\ttrain-rmse:1801.00584\teval-rmse:1807.27852\n",
      "[28]\ttrain-rmse:1785.73299\teval-rmse:1792.36101\n",
      "[29]\ttrain-rmse:1770.69447\teval-rmse:1777.59749\n",
      "[30]\ttrain-rmse:1761.47261\teval-rmse:1768.57818\n",
      "[31]\ttrain-rmse:1747.97983\teval-rmse:1755.35713\n",
      "[32]\ttrain-rmse:1733.94348\teval-rmse:1741.74709\n",
      "[33]\ttrain-rmse:1722.66256\teval-rmse:1730.91665\n",
      "[34]\ttrain-rmse:1711.12247\teval-rmse:1719.50639\n",
      "[35]\ttrain-rmse:1695.98627\teval-rmse:1704.54782\n",
      "[36]\ttrain-rmse:1683.36002\teval-rmse:1691.96186\n",
      "[37]\ttrain-rmse:1666.46494\teval-rmse:1675.18150\n",
      "[38]\ttrain-rmse:1658.88382\teval-rmse:1667.71850\n",
      "[39]\ttrain-rmse:1647.30002\teval-rmse:1656.26237\n",
      "[40]\ttrain-rmse:1640.00954\teval-rmse:1649.10903\n",
      "[41]\ttrain-rmse:1624.61054\teval-rmse:1633.88278\n",
      "[42]\ttrain-rmse:1618.44254\teval-rmse:1628.00732\n",
      "[43]\ttrain-rmse:1608.64560\teval-rmse:1618.47564\n",
      "[44]\ttrain-rmse:1599.91226\teval-rmse:1609.67066\n",
      "[45]\ttrain-rmse:1594.49528\teval-rmse:1604.15133\n",
      "[46]\ttrain-rmse:1585.18608\teval-rmse:1594.98392\n",
      "[47]\ttrain-rmse:1575.10347\teval-rmse:1585.41139\n",
      "[48]\ttrain-rmse:1562.48114\teval-rmse:1573.27686\n",
      "[49]\ttrain-rmse:1550.80424\teval-rmse:1561.85164\n",
      "[50]\ttrain-rmse:1540.77623\teval-rmse:1551.90193\n",
      "[51]\ttrain-rmse:1534.65312\teval-rmse:1545.77789\n",
      "[52]\ttrain-rmse:1523.12997\teval-rmse:1534.35122\n",
      "[53]\ttrain-rmse:1517.97223\teval-rmse:1529.23579\n",
      "[54]\ttrain-rmse:1505.45953\teval-rmse:1516.94170\n",
      "[55]\ttrain-rmse:1496.64630\teval-rmse:1508.20119\n",
      "[56]\ttrain-rmse:1492.27082\teval-rmse:1503.89147\n",
      "[57]\ttrain-rmse:1480.25135\teval-rmse:1491.91719\n",
      "[58]\ttrain-rmse:1467.63054\teval-rmse:1479.85941\n",
      "[59]\ttrain-rmse:1458.30529\teval-rmse:1470.58860\n",
      "[60]\ttrain-rmse:1448.40858\teval-rmse:1461.03526\n",
      "[61]\ttrain-rmse:1440.38206\teval-rmse:1453.12137\n",
      "[62]\ttrain-rmse:1433.72402\teval-rmse:1446.71376\n",
      "[63]\ttrain-rmse:1429.87386\teval-rmse:1442.92270\n",
      "[64]\ttrain-rmse:1421.10937\teval-rmse:1434.59141\n",
      "[65]\ttrain-rmse:1416.75114\teval-rmse:1430.53853\n",
      "[66]\ttrain-rmse:1407.90610\teval-rmse:1422.20748\n",
      "[67]\ttrain-rmse:1404.16430\teval-rmse:1418.64515\n",
      "[68]\ttrain-rmse:1402.40014\teval-rmse:1416.97481\n",
      "[69]\ttrain-rmse:1398.32740\teval-rmse:1412.98549\n",
      "[70]\ttrain-rmse:1394.79972\teval-rmse:1409.72054\n",
      "[71]\ttrain-rmse:1385.84511\teval-rmse:1401.15378\n",
      "[72]\ttrain-rmse:1378.60253\teval-rmse:1394.06689\n",
      "[73]\ttrain-rmse:1373.71815\teval-rmse:1389.38462\n",
      "[74]\ttrain-rmse:1361.59444\teval-rmse:1377.59050\n",
      "[75]\ttrain-rmse:1357.53402\teval-rmse:1374.06867\n",
      "[76]\ttrain-rmse:1355.30485\teval-rmse:1371.72814\n",
      "[77]\ttrain-rmse:1347.14104\teval-rmse:1363.66660\n",
      "[78]\ttrain-rmse:1337.71738\teval-rmse:1354.67512\n",
      "[79]\ttrain-rmse:1329.60893\teval-rmse:1346.81233\n",
      "[80]\ttrain-rmse:1321.65699\teval-rmse:1338.99928\n",
      "[81]\ttrain-rmse:1314.58053\teval-rmse:1331.99327\n",
      "[82]\ttrain-rmse:1309.80154\teval-rmse:1327.56581\n",
      "[83]\ttrain-rmse:1304.41515\teval-rmse:1322.37355\n",
      "[84]\ttrain-rmse:1297.28713\teval-rmse:1315.36063\n",
      "[85]\ttrain-rmse:1294.27548\teval-rmse:1312.49135\n",
      "[86]\ttrain-rmse:1291.09391\teval-rmse:1309.34135\n",
      "[87]\ttrain-rmse:1287.52777\teval-rmse:1306.17612\n",
      "[88]\ttrain-rmse:1283.88474\teval-rmse:1302.73429\n",
      "[89]\ttrain-rmse:1281.85644\teval-rmse:1300.85225\n",
      "[90]\ttrain-rmse:1277.42301\teval-rmse:1296.52145\n",
      "[91]\ttrain-rmse:1271.97373\teval-rmse:1291.26676\n",
      "[92]\ttrain-rmse:1268.16053\teval-rmse:1287.60389\n",
      "[93]\ttrain-rmse:1264.54247\teval-rmse:1284.18098\n",
      "[94]\ttrain-rmse:1260.20613\teval-rmse:1279.99812\n",
      "[95]\ttrain-rmse:1256.95123\teval-rmse:1276.74520\n",
      "[96]\ttrain-rmse:1253.50930\teval-rmse:1273.53279\n",
      "[97]\ttrain-rmse:1248.94924\teval-rmse:1269.19887\n",
      "[98]\ttrain-rmse:1246.02920\teval-rmse:1266.33255\n",
      "[99]\ttrain-rmse:1241.56729\teval-rmse:1261.92921\n",
      "Adjusted RMSE of the XGBoost model: 1261.9292\n"
     ]
    }
   ],
   "source": [
    "params_2 = {'max_depth': 10, 'eta': 0.1, 'gamma': 2, 'objective': 'reg:squarederror'}\n",
    "\n",
    "# Retrain the model with new parameters\n",
    "xgboost_2 = xgb.train(params_2, dtrain, num_boost_round=100, evals=watchlist, early_stopping_rounds=10, verbose_eval=True)\n",
    "\n",
    "# Predict again\n",
    "preds_2 = xgboost_2.predict(dtest)\n",
    "\n",
    "# Calculate the adjusted RMSE\n",
    "rms_xgboost_2 = sqrt(mean_squared_error(y_test, preds_2))\n",
    "print(f\"Adjusted RMSE of the XGBoost model: {rms_xgboost_2:.4f}\")"
   ]
  },
  {
   "cell_type": "markdown",
   "metadata": {},
   "source": [
    "## Step6 Feature importance analysis"
   ]
  },
  {
   "cell_type": "code",
   "execution_count": 11,
   "metadata": {},
   "outputs": [
    {
     "data": {
      "image/png": "[encoded data removed]",
      "text/plain": [
       "<Figure size 1000x1000 with 1 Axes>"
      ]
     },
     "metadata": {},
     "output_type": "display_data"
    }
   ],
   "source": [
    "# Visualize feature importance\n",
    "fig, ax = plt.subplots(figsize=(10, 10))\n",
    "xgb.plot_importance(xgboost_2, max_num_features=50, height=0.8, ax=ax)\n",
    "plt.show()"
   ]
  },
  {
   "cell_type": "markdown",
   "metadata": {},
   "source": [
    "## Step7 Result"
   ]
  },
  {
   "cell_type": "code",
   "execution_count": 13,
   "metadata": {},
   "outputs": [
    {
     "data": {
      "text/html": [
       "<div>\n",
       "<style scoped>\n",
       "    .dataframe tbody tr th:only-of-type {\n",
       "        vertical-align: middle;\n",
       "    }\n",
       "\n",
       "    .dataframe tbody tr th {\n",
       "        vertical-align: top;\n",
       "    }\n",
       "\n",
       "    .dataframe thead th {\n",
       "        text-align: right;\n",
       "    }\n",
       "</style>\n",
       "<table border=\"1\" class=\"dataframe\">\n",
       "  <thead>\n",
       "    <tr style=\"text-align: right;\">\n",
       "      <th></th>\n",
       "      <th>Model</th>\n",
       "      <th>RMSE</th>\n",
       "    </tr>\n",
       "  </thead>\n",
       "  <tbody>\n",
       "    <tr>\n",
       "      <th>0</th>\n",
       "      <td>XGBoost</td>\n",
       "      <td>1261.9292120428902</td>\n",
       "    </tr>\n",
       "  </tbody>\n",
       "</table>\n",
       "</div>"
      ],
      "text/plain": [
       "     Model                RMSE\n",
       "0  XGBoost  1261.9292120428902"
      ]
     },
     "execution_count": 13,
     "metadata": {},
     "output_type": "execute_result"
    }
   ],
   "source": [
    "rms_xgboost_2 = format(float(rms_xgboost_2))\n",
    "\n",
    "model_errors = pd.DataFrame({\n",
    "    \"Model\": [\"XGBoost\"],\n",
    "    \"RMSE\": [rms_xgboost_2]})\n",
    "\n",
    "model_errors.sort_values(by = \"RMSE\")"
   ]
  }
 ],
 "metadata": {
  "kernelspec": {
   "display_name": "Python 3",
   "language": "python",
   "name": "python3"
  },
  "language_info": {
   "codemirror_mode": {
    "name": "ipython",
    "version": 3
   },
   "file_extension": ".py",
   "mimetype": "text/x-python",
   "name": "python",
   "nbconvert_exporter": "python",
   "pygments_lexer": "ipython3",
   "version": "3.10.2"
  }
 },
 "nbformat": 4,
 "nbformat_minor": 2
}
